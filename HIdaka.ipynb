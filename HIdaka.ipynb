{
 "cells": [
  {
   "cell_type": "code",
   "execution_count": null,
   "metadata": {},
   "outputs": [],
   "source": [
    "import re\n",
    "def main():\n",
    "    senha = input(\"Digite a senha: \")\n",
    "    if muito_forte(senha):\n",
    "        print(\"Senha Muito Forte\")\n",
    "    elif forte(senha):\n",
    "        print(\"Senha Forte\")\n",
    "    elif media(senha):\n",
    "        print(\"Senha moderada\")\n",
    "    elif fraca(senha):\n",
    "        print(\"Senha senha fraca\")\n",
    "    else:\n",
    "        print(\"Senha invalida\")\n",
    "\n",
    "def muito_forte(senha):\n",
    "    return re.search(\"[A-Z]\", senha) and re.search(\"[a-z]\", senha) and re.search(\"[0-9]\", senha) and len(re.findall(\"^A-Za-z0-9\",senha)) >= 3 and len(senha) >= 10\n",
    "\n",
    "def forte(senha):\n",
    "    return re.search(\"[A-Z]\",senha) and re.search(\"[a-z]\",senha) and re.search(\"[0-9]\",senha) and re.search(\"A-Za-z0-9\",senha) and len(senha) >= 8\n",
    "\n",
    "def media(senha):\n",
    "    return re.search(\"[A-Z]\",senha) and re.search(\"[a-z]\",senha) and re.search(\"[0-9]\",senha) and len(senha) >= 6\n",
    "\n",
    "def fraca(senha):\n",
    "    return len(senha) >= 6\n"
   ]
  },
  {
   "cell_type": "code",
   "execution_count": null,
   "metadata": {},
   "outputs": [],
   "source": [
    "import re\n",
    "def main():\n",
    "    senha = input(\"Digite a senha: \")\n",
    "    if muito_forte(senha):\n",
    "        print(\"Senha Muito Forte\")\n",
    "    elif forte(senha):\n",
    "        print(\"Senha Forte\")\n",
    "    elif media(senha):\n",
    "        print(\"Senha moderada\")\n",
    "    elif fraca(senha):\n",
    "        print(\"Senha senha fraca\")\n",
    "    else:\n",
    "        print(\"Senha invalida\")\n",
    "\n",
    "def muito_forte(senha):\n",
    "    return re.search(\"[A-Z]\", senha) and re.search(\"[a-z]\", senha) and re.search(\"[0-9]\", senha) and len(re.findall(\"^A-Za-z0-9\",senha)) >= 3 and len(senha) >= 10\n",
    "\n",
    "def forte(senha):\n",
    "    return re.search(\"[A-Z]\",senha) and re.search(\"[a-z]\",senha) and re.search(\"[0-9]\",senha) and re.search(\"A-Za-z0-9\",senha) and len(senha) >= 8\n",
    "\n",
    "def media(senha):\n",
    "    return re.search(\"[A-Z]\",senha) and re.search(\"[a-z]\",senha) and re.search(\"[0-9]\",senha) and len(senha) >= 6\n",
    "\n",
    "def fraca(senha):\n",
    "    return len(senha) >= 6\n",
    "main()\n"
   ]
  },
  {
   "cell_type": "code",
   "execution_count": null,
   "metadata": {},
   "outputs": [],
   "source": [
    "import re\n",
    "def main():\n",
    "    while True:\n",
    "        senha = input(\"Digite a senha: \")\n",
    "        if muito_forte(senha):\n",
    "            print(\"Senha Muito Forte\")\n",
    "            break\n",
    "        elif forte(senha):\n",
    "            print(\"Senha Forte\")\n",
    "        elif media(senha):\n",
    "            print(\"Senha moderada\")\n",
    "        elif fraca(senha):\n",
    "            print(\"Senha senha fraca\")\n",
    "        else:\n",
    "            print(\"Senha invalida\")\n",
    "\n",
    "def muito_forte(senha):\n",
    "    return re.search(\"[A-Z]\", senha) and re.search(\"[a-z]\", senha) and re.search(\"[0-9]\", senha) and len(re.findall(\"^A-Za-z0-9\",senha)) >= 3 and len(senha) >= 10\n",
    "\n",
    "def forte(senha):\n",
    "    return re.search(\"[A-Z]\",senha) and re.search(\"[a-z]\",senha) and re.search(\"[0-9]\",senha) and re.search(\"A-Za-z0-9\",senha) and len(senha) >= 8\n",
    "\n",
    "def media(senha):\n",
    "    return re.search(\"[A-Z]\",senha) and re.search(\"[a-z]\",senha) and re.search(\"[0-9]\",senha) and len(senha) >= 6\n",
    "\n",
    "def fraca(senha):\n",
    "    return len(senha) >= 6\n",
    "main()\n"
   ]
  },
  {
   "cell_type": "code",
   "execution_count": null,
   "metadata": {},
   "outputs": [],
   "source": [
    "\"\"\"Pedir para o usuario informar o endereço de IPV4\n",
    "   Se for válido, informar a classe\"\"\""
   ]
  }
 ],
 "metadata": {
  "kernelspec": {
   "display_name": "Python 3",
   "language": "python",
   "name": "python3"
  },
  "language_info": {
   "name": "python",
   "version": "3.10.4"
  }
 },
 "nbformat": 4,
 "nbformat_minor": 2
}
