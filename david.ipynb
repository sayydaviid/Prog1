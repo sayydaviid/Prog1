{
 "cells": [
  {
   "cell_type": "code",
   "execution_count": 7,
   "source": [
    "import re\n",
    "cpf = \"192.533.745-33\"\n",
    "r = \"\\d{3}.\\d{3}.\\d{3}.\\d{2}\"\n",
    "chreck = re.search(r, cpf) \n",
    "print(chreck)"
   ],
   "outputs": [
    {
     "output_type": "stream",
     "name": "stdout",
     "text": [
      "<re.Match object; span=(0, 14), match='192.533.745-33'>\n"
     ]
    }
   ],
   "metadata": {}
  },
  {
   "cell_type": "code",
   "execution_count": 9,
   "source": [
    "import re\n",
    "cpftester = input(\"Digite seu CPF:\")\n",
    "\"(cpf = 192.533.745.33)\"\n",
    "r = \"\\d{3}.\\d{3}.\\d{3}.\\d{2}\"\n",
    "chreck = re.search(r, cpftester) \n",
    "print(chreck)"
   ],
   "outputs": [
    {
     "output_type": "stream",
     "name": "stdout",
     "text": [
      "<re.Match object; span=(0, 14), match='040.189.222.66'>\n"
     ]
    }
   ],
   "metadata": {}
  },
  {
   "cell_type": "code",
   "execution_count": 14,
   "source": [
    "import re\n",
    "numerodetelefone = input(\"Digite seu telefone:\")\n",
    "\"(numerodetelefone = (91)91980829358)\"\n",
    "r = \"\\(\\d{2}\\)\\s9\\d{4}-\\d{4}\"\n",
    "chreck = re.fullmatch(r, numerodetelefone) \n",
    "print(chreck)"
   ],
   "outputs": [
    {
     "output_type": "stream",
     "name": "stdout",
     "text": [
      "<re.Match object; span=(0, 15), match='(91) 98082-9358'>\n"
     ]
    }
   ],
   "metadata": {}
  },
  {
   "cell_type": "code",
   "execution_count": 15,
   "source": [
    "import re\n",
    "numerodetelefone = input(\"Digite seu telefone:\")\n",
    "\"(numerodetelefone = (91)91980829358)\"\n",
    "r = \"\\(\\d{2}\\)\\s9\\d{4}-\\d{4}\"\n",
    "chreck = re.search(r, numerodetelefone) \n",
    "print(chreck)"
   ],
   "outputs": [
    {
     "output_type": "stream",
     "name": "stdout",
     "text": [
      "<re.Match object; span=(0, 15), match='(91) 98082-9358'>\n"
     ]
    }
   ],
   "metadata": {}
  },
  {
   "cell_type": "code",
   "execution_count": 17,
   "source": [
    "import re\n",
    "numerodetelefone = input(\"Digite seu telefone:\")\n",
    "\"(numerodetelefone = (91)91980829358)\"\n",
    "r = \"\\(\\d{2}\\)\\s9\\d{4}-\\d{4}\"\n",
    "chreck = re.search(r, numerodetelefone) \n",
    "print(chreck)\n",
    "if chreck: \n",
    "    print(\"OK\")\n",
    "else:\n",
    "    print(\"Tem parada errada ai mermao\")"
   ],
   "outputs": [
    {
     "output_type": "stream",
     "name": "stdout",
     "text": [
      "<re.Match object; span=(0, 15), match='(91) 98082-9358'>\n",
      "OK\n"
     ]
    }
   ],
   "metadata": {}
  },
  {
   "cell_type": "code",
   "execution_count": 18,
   "source": [
    "import re\n",
    "numerodetelefone = input(\"Digite seu telefone:\")\n",
    "\"(numerodetelefone = (91)91980829358)\"\n",
    "r = \"\\(\\d{2}\\)\\s9\\d{4}-\\d{4}\"\n",
    "chreck = re.search(r, numerodetelefone) \n",
    "print(chreck)\n",
    "    chreck:\n",
    "    telefone = re.sub(\"[\\(\\)\\-\\s]\",\"\",value)\n",
    "    print(telefone)\n",
    "if chreck: \n",
    "    print(\"OK\")\n",
    "else:\n",
    "    print(\"Tem parada errada ai mermao\")"
   ],
   "outputs": [
    {
     "output_type": "error",
     "ename": "IndentationError",
     "evalue": "unexpected indent (<ipython-input-18-4c0204e4eb3d>, line 7)",
     "traceback": [
      "\u001b[1;36m  Cell \u001b[1;32mIn[18], line 7\u001b[1;36m\u001b[0m\n\u001b[1;33m    chreck:\u001b[0m\n\u001b[1;37m    ^\u001b[0m\n\u001b[1;31mIndentationError\u001b[0m\u001b[1;31m:\u001b[0m unexpected indent\n"
     ]
    }
   ],
   "metadata": {}
  }
 ],
 "nbformat": 4,
 "nbformat_minor": 2,
 "metadata": {
  "language_info": {
   "codemirror_mode": {
    "name": "ipython",
    "version": 3
   },
   "file_extension": ".py",
   "mimetype": "text/x-python",
   "name": "python",
   "nbconvert_exporter": "python",
   "pygments_lexer": "ipython3",
   "version": 3
  }
 }
}